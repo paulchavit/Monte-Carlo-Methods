{
 "cells": [
  {
   "cell_type": "markdown",
   "metadata": {},
   "source": [
    "<h1>Abstract</h1> \n",
    "\n",
    "Monte Carlo methods employ random sampling to get numerical results. Here, I discuss the application of Monte Carlo to numerical integration and numerical solution of ODEs using simple examples. The convergence of the numerical results are just dependent on the sample size, which is suited better for integrals of mulivalued functions and partial differential equations."
   ]
  },
  {
   "cell_type": "code",
   "execution_count": 2,
   "metadata": {},
   "outputs": [],
   "source": [
    "import numpy as np\n",
    "from random import uniform \n",
    "import matplotlib.pyplot as plt\n",
    "%matplotlib inline"
   ]
  },
  {
   "cell_type": "markdown",
   "metadata": {},
   "source": [
    "<h1>I. Numerical Integration</h1>\n",
    "\n",
    "To get the average of a function, $<f(x)>$ over an interval $[a,b]$, we integrate $f(x)P(x)$ over $[a,b]$,<br/> where P(x) is the probability distribution function, $P(x) = \\frac{1}{b-a}$:\n",
    "\n",
    "$<f(x)> = \\frac{1}{b-a}\\int_{a}^{b}f(x)dx.$\n",
    "\n",
    "So we can define the integral of $f(x)$ over the interval $[a,b]$ in terms of it's average $<f(x)>$:\n",
    "\n",
    "$\\int_{a}^{b}f(x)dx = (b-a)<f(x)>.$\n",
    "\n",
    "In evaluating the average $<f(x)>$ over the interval $[a,b]$, we can use random sampling to approximate it:\n",
    "\n",
    "$<f(x)> \\sim \\frac{1}{K}\\sum_{i=1}^{K}f(x_{i})$, where $x_{i}$ is a randomly chosen number within the interval $[a,b]$ and $K$ is the number of samples. <br/><br/>\n",
    "Basically, we randomly choose $K$ numbers within the interval $[a,b]$ and evulate the function with those numbers,<br/> then take the average to approximate the average of $f(x)$ over the interval $[a,b]$ to approximate the integral:\n",
    "\n",
    "$\\int_{a}^{b}f(x)dx \\sim (b-a)\\frac{1}{K}\\sum_{i=1}^{K}f(x_{i})$\n",
    "\n",
    "To get a better approximation of the \n",
    "integral, we can divide the interval $[a,b]$ into subintervals (smaller intervals) and consider more samples. <br/>\n",
    "Thus, the convergence is just a matter of sample size which makes Monte Carlo more useful for integrals \n",
    "of multivalued functions and partial differential equations. As an example, we numerically solve for \n",
    "$\\int_{0}^{\\pi}x^{2}\\cos(x)dx$. (The answer is $-2\\pi$)\n",
    "\n"
   ]
  },
  {
   "cell_type": "code",
   "execution_count": 91,
   "metadata": {},
   "outputs": [
    {
     "name": "stdout",
     "output_type": "stream",
     "text": [
      "-6.2846812433372845\n"
     ]
    }
   ],
   "source": [
    "a = 0\n",
    "b = np.pi\n",
    "n = 100 #number of subintervals of the interval [a,b]\n",
    "N = 100 #number of samples \n",
    "x = np.zeros(n+1) #list of x values\n",
    "h = (b-a)/n #step size\n",
    "\n",
    "f = lambda x: (x**2)*np.cos(x) #integrand\n",
    "\n",
    "total = 0\n",
    "for i in range(n):\n",
    "    x[i+1] = x[i] + h\n",
    "    f_mean = 0 #initialization\n",
    "    for k in range(N): \n",
    "        x_k = uniform(x[i],x[i+1]) #random number within the subinterval\n",
    "        f_mean = f(x_k) + f_mean \n",
    "    sub_area = (h/N)*f_mean #average for the subinterval\n",
    "    total = sub_area + total #average for the interval\n",
    "print(total)    "
   ]
  },
  {
   "cell_type": "markdown",
   "metadata": {},
   "source": [
    "If we compute for the approximate integral 500 times, the average would tend to the real value, $-2\\pi$  "
   ]
  },
  {
   "cell_type": "code",
   "execution_count": 92,
   "metadata": {},
   "outputs": [
    {
     "data": {
      "text/plain": [
       "<matplotlib.lines.Line2D at 0x20b6d378700>"
      ]
     },
     "execution_count": 92,
     "metadata": {},
     "output_type": "execute_result"
    },
    {
     "data": {
      "image/png": "[encoded data removed]",
      "text/plain": [
       "<Figure size 504x360 with 1 Axes>"
      ]
     },
     "metadata": {
      "needs_background": "light"
     },
     "output_type": "display_data"
    }
   ],
   "source": [
    "K = 500\n",
    "intrl = np.zeros(K)\n",
    "for j in range(len(intrl)):    \n",
    "    total = 0\n",
    "    for i in range(n):\n",
    "        x[i+1] = x[i] + h\n",
    "        f_mean = 0 #initialization\n",
    "        for k in range(N):\n",
    "            x_k = uniform(x[i],x[i+1]) #random number within the subinterval\n",
    "            f_mean = f(x_k) + f_mean \n",
    "        sub_area = (h/N)*f_mean\n",
    "        total = sub_area + total\n",
    "    intrl[j] = total\n",
    "plt.figure(figsize = (7,5))\n",
    "plt.hist(intrl, bins = 30)\n",
    "plt.axvline(x=-2*np.pi,color = 'black')"
   ]
  },
  {
   "cell_type": "markdown",
   "metadata": {},
   "source": [
    "<h1>II Numerical ODE</h1> \n",
    "\n",
    "The solution of \n",
    "\n",
    "$\\frac{dy}{dx} = f(x)$\n",
    "\n",
    "is just\n",
    "\n",
    "$y_{i+1} = y_{i} + \\int_{x_{i}}^{x_{i+1}}f(x)dx$, where $y_{i} = f(x_{i})$ and $y_{i+1} = f(x_{i+1})$ \n",
    "\n",
    "The integral can be approximated using random sampling as shown in the previous section:\n",
    "\n",
    "$y_{i+1} \\sim y_{i} + \\frac{x_{i+1}-x_{i}}{K}\\sum_{i=1}^{K}f(x_{k})$, where $x_{k}$ is randomly chosen between $x_{i}$ and $x_{i+1}.$\n",
    "\n",
    "As an example, we consider the initial value problem:\n",
    "\n",
    "$\\frac{dy}{dx} = e^{x}$, $y_{0} = y(0)$ "
   ]
  },
  {
   "cell_type": "code",
   "execution_count": 9,
   "metadata": {},
   "outputs": [
    {
     "data": {
      "text/plain": [
       "<matplotlib.legend.Legend at 0x1dca4e4d0d0>"
      ]
     },
     "execution_count": 9,
     "metadata": {},
     "output_type": "execute_result"
    },
    {
     "data": {
      "image/png": "[encoded data removed]",
      "text/plain": [
       "<Figure size 504x360 with 1 Axes>"
      ]
     },
     "metadata": {
      "needs_background": "light"
     },
     "output_type": "display_data"
    }
   ],
   "source": [
    "K = 100 #number of samples  \n",
    "n = 500 #number of points\n",
    "h = 0.01 #step size\n",
    "y = np.zeros(n) \n",
    "x = np.zeros(n)\n",
    "x_0 = 0 \n",
    "y_0 = 10\n",
    "\n",
    "f = np.exp  #f(x): dy/dx = f(x)\n",
    "f_a = lambda x: y_0 + np.exp(x) -1 #analytic solution of the ODE\n",
    "\n",
    "x[0] = x_0\n",
    "y[0] = y_0\n",
    "\n",
    "for i in range(n-1):\n",
    "    x[i+1] = x[i] + h\n",
    "    f_mean = 0\n",
    "    for k in range(K):\n",
    "        x_k = uniform(x[i],x[i+1])\n",
    "        f_mean = f(x_k) + f_mean\n",
    "    y[i+1] = y[i] + (h/K)*f_mean\n",
    "    \n",
    "plt.figure(figsize = (7,5))\n",
    "plt.plot(x,y,color = 'red', label = 'numerical(MC)')    \n",
    "plt.plot(x,f_a(x),linestyle = 'dashed',color = 'blue', label = 'analytic')\n",
    "plt.legend(loc = 'best')"
   ]
  }
 ],
 "metadata": {
  "kernelspec": {
   "display_name": "Python 3",
   "language": "python",
   "name": "python3"
  },
  "language_info": {
   "codemirror_mode": {
    "name": "ipython",
    "version": 3
   },
   "file_extension": ".py",
   "mimetype": "text/x-python",
   "name": "python",
   "nbconvert_exporter": "python",
   "pygments_lexer": "ipython3",
   "version": "3.8.3"
  }
 },
 "nbformat": 4,
 "nbformat_minor": 4
}
