{
 "cells": [
  {
   "cell_type": "markdown",
   "metadata": {},
   "source": [
    "<h1>Abstract</h1> \n",
    "\n",
    "Monte Carlo methods employ random sampling to get numerical results. Here, I discuss the application of Monte Carlo to numerical integration and numerical solution of ODEs using simple examples. We also approximate certain constants using Monte Carlo methods. The convergence of the numerical results are just dependent on the sample size, which is suited better for integrals of mulivalued functions and partial differential equations."
   ]
  },
  {
   "cell_type": "code",
   "execution_count": 2,
   "metadata": {},
   "outputs": [],
   "source": [
    "import numpy as np\n",
    "from random import uniform \n",
    "import matplotlib.pyplot as plt\n",
    "%matplotlib inline"
   ]
  },
  {
   "cell_type": "markdown",
   "metadata": {},
   "source": [
    "<h1>I. Numerical Integration</h1>\n",
    "\n",
    "To get the average of a function, $<f(x)>$ over an interval $[a,b]$, we integrate $f(x)P(x)$ over $[a,b]$,<br/> where P(x) is the probability distribution function, $P(x) = \\frac{1}{b-a}$:\n",
    "\n",
    "$<f(x)> = \\frac{1}{b-a}\\int_{a}^{b}f(x)dx.$\n",
    "\n",
    "So we can define the integral of $f(x)$ over the interval $[a,b]$ in terms of it's average $<f(x)>$:\n",
    "\n",
    "$\\int_{a}^{b}f(x)dx = (b-a)<f(x)>.$\n",
    "\n",
    "In evaluating the average $<f(x)>$ over the interval $[a,b]$, we can use random sampling to approximate it:\n",
    "\n",
    "$<f(x)> \\sim \\frac{1}{K}\\sum_{i=1}^{K}f(x_{i})$, where $x_{i}$ is a randomly chosen number within the interval $[a,b]$ and $K$ is the number of samples. <br/><br/>\n",
    "Basically, we randomly choose $K$ numbers within the interval $[a,b]$ and evulate the function with those numbers,<br/> then take the average to approximate the average of $f(x)$ over the interval $[a,b]$ to approximate the integral:\n",
    "\n",
    "$\\int_{a}^{b}f(x)dx \\sim (b-a)\\frac{1}{K}\\sum_{i=1}^{K}f(x_{i})$\n",
    "\n",
    "To get a better approximation of the \n",
    "integral, we can divide the interval $[a,b]$ into subintervals (smaller intervals) and consider more samples. <br/>\n",
    "Thus, the convergence is just a matter of sample size which makes Monte Carlo more useful for integrals \n",
    "of multivalued functions and partial differential equations. As an example, we numerically solve for \n",
    "$\\int_{0}^{\\pi}x^{2}\\cos(x)dx$. (The answer is $-2\\pi$)\n",
    "\n"
   ]
  },
  {
   "cell_type": "code",
   "execution_count": 7,
   "metadata": {},
   "outputs": [
    {
     "name": "stdout",
     "output_type": "stream",
     "text": [
      "-6.28371739245989\n"
     ]
    }
   ],
   "source": [
    "a = 0\n",
    "b = np.pi\n",
    "n = 100 #number of subintervals of the interval [a,b]\n",
    "N = 100 #number of samples \n",
    "x = np.zeros(n+1) #list of x values\n",
    "h = (b-a)/n #step size\n",
    "\n",
    "f = lambda x: (x**2)*np.cos(x) #integrand\n",
    "\n",
    "total = 0\n",
    "for i in range(n):\n",
    "    x[i+1] = x[i] + h\n",
    "    f_mean = 0 #initialization\n",
    "    for k in range(N): \n",
    "        x_k = uniform(x[i],x[i+1]) #random number within the subinterval\n",
    "        f_mean = f(x_k) + f_mean \n",
    "    sub_area = (h/N)*f_mean #average for the subinterval\n",
    "    total = sub_area + total #average for the interval\n",
    "print(total)    "
   ]
  },
  {
   "cell_type": "markdown",
   "metadata": {},
   "source": [
    "If we compute for the approximate integral 500 times, the average would tend to the real value, $-2\\pi$  "
   ]
  },
  {
   "cell_type": "code",
   "execution_count": 4,
   "metadata": {},
   "outputs": [
    {
     "data": {
      "text/plain": [
       "<matplotlib.lines.Line2D at 0x1b0806a2760>"
      ]
     },
     "execution_count": 4,
     "metadata": {},
     "output_type": "execute_result"
    },
    {
     "data": {
      "image/png": "[encoded data removed]",
      "text/plain": [
       "<Figure size 504x360 with 1 Axes>"
      ]
     },
     "metadata": {
      "needs_background": "light"
     },
     "output_type": "display_data"
    }
   ],
   "source": [
    "K = 500\n",
    "intrl = np.zeros(K)\n",
    "for j in range(len(intrl)):    \n",
    "    total = 0\n",
    "    for i in range(n):\n",
    "        x[i+1] = x[i] + h\n",
    "        f_mean = 0 #initialization\n",
    "        for k in range(N):\n",
    "            x_k = uniform(x[i],x[i+1]) #random number within the subinterval\n",
    "            f_mean = f(x_k) + f_mean \n",
    "        sub_area = (h/N)*f_mean\n",
    "        total = sub_area + total\n",
    "    intrl[j] = total\n",
    "plt.figure(figsize = (7,5))\n",
    "plt.hist(intrl, bins = 30)\n",
    "plt.axvline(x=-2*np.pi,color = 'black')"
   ]
  },
  {
   "cell_type": "markdown",
   "metadata": {},
   "source": [
    "<h1>II Numerical ODE</h1> \n",
    "\n",
    "The solution of \n",
    "\n",
    "$\\frac{dy}{dx} = f(x)$\n",
    "\n",
    "is just\n",
    "\n",
    "$y_{i+1} = y_{i} + \\int_{x_{i}}^{x_{i+1}}f(x)dx$, where $y_{i} = f(x_{i})$ and $y_{i+1} = f(x_{i+1})$ \n",
    "\n",
    "The integral can be approximated using random sampling as shown in the previous section:\n",
    "\n",
    "$y_{i+1} \\sim y_{i} + \\frac{x_{i+1}-x_{i}}{K}\\sum_{i=1}^{K}f(x_{k})$, where $x_{k}$ is randomly chosen between $x_{i}$ and $x_{i+1}.$\n",
    "\n",
    "As an example, we consider the initial value problem:\n",
    "\n",
    "$\\frac{dy}{dx} = e^{x}$, $y_{0} = y(0)$ "
   ]
  },
  {
   "cell_type": "code",
   "execution_count": 5,
   "metadata": {
    "scrolled": true
   },
   "outputs": [
    {
     "data": {
      "text/plain": [
       "<matplotlib.legend.Legend at 0x1b083a01cd0>"
      ]
     },
     "execution_count": 5,
     "metadata": {},
     "output_type": "execute_result"
    },
    {
     "data": {
      "image/png": "[encoded data removed]",
      "text/plain": [
       "<Figure size 504x360 with 1 Axes>"
      ]
     },
     "metadata": {
      "needs_background": "light"
     },
     "output_type": "display_data"
    }
   ],
   "source": [
    "K = 100 #number of samples  \n",
    "n = 500 #number of points\n",
    "h = 0.01 #step size\n",
    "y = np.zeros(n) \n",
    "x = np.zeros(n)\n",
    "x_0 = 0 \n",
    "y_0 = 10\n",
    "\n",
    "f = np.exp  #f(x): dy/dx = f(x)\n",
    "f_a = lambda x: y_0 + np.exp(x) -1 #analytic solution of the ODE\n",
    "\n",
    "x[0] = x_0\n",
    "y[0] = y_0\n",
    "\n",
    "for i in range(n-1):\n",
    "    x[i+1] = x[i] + h\n",
    "    f_mean = 0\n",
    "    for k in range(K):\n",
    "        x_k = uniform(x[i],x[i+1])\n",
    "        f_mean = f(x_k) + f_mean\n",
    "    y[i+1] = y[i] + (h/K)*f_mean\n",
    "    \n",
    "plt.figure(figsize = (7,5))\n",
    "plt.plot(x,y,color = 'red', label = 'numerical(MC)')    \n",
    "plt.plot(x,f_a(x),linestyle = 'dashed',color = 'blue', label = 'analytic')\n",
    "plt.legend(loc = 'best')"
   ]
  },
  {
   "cell_type": "markdown",
   "metadata": {},
   "source": [
    "<h1>III Approximating Constants Using Monte Carlo Methods</h1>\n",
    "\n",
    "We now understand the basics of the Monte Carlo method. Let's use it to solve for constants! \n",
    "\n",
    "A.) $e$ (base of the natural logarithm) <br/>\n",
    "B.) $\\gamma$ (Euler-Mascheroni Constant) <br/>\n",
    "C.) $\\pi$ <br/>\n",
    "<br/>\n",
    "<strong>A.</strong> We see the number $e$ in compounding interest and radioactive decay. In Gnedenko's Theory of Probability, we see another way of thinking about $e$. In an exercise problem, the reader can demonstrate that the number $e$ is also the average minimum number of terms randomly chosen between 0 and 1 whose sum is greater than 1.  "
   ]
  },
  {
   "attachments": {
    "image.png": {
     "image/png": "[encoded data removed]"
    }
   },
   "cell_type": "markdown",
   "metadata": {},
   "source": [
    "![image.png](attachment:image.png)"
   ]
  },
  {
   "cell_type": "code",
   "execution_count": 91,
   "metadata": {},
   "outputs": [
    {
     "name": "stdout",
     "output_type": "stream",
     "text": [
      "approximation of e for N = 1000000: 2.718682\n",
      "percent error: 0.014721%\n",
      "standard deviation: 0.875070\n"
     ]
    }
   ],
   "source": [
    "N = 1000000\n",
    "steps_list = []\n",
    "\n",
    "for i in range(N):\n",
    "    \n",
    "    steps = 0\n",
    "    sumU_k = 0\n",
    "    \n",
    "    while sumU_k <= 1: #keeps on adding random numbers while the sum does not exceed 1 \n",
    "        \n",
    "        U_k = uniform(0,1)\n",
    "        sumU_k = U_k + sumU_k \n",
    "        steps = steps + 1   \n",
    "        \n",
    "    else:\n",
    "        steps_list.append(steps)\n",
    "            \n",
    "print(\"approximation of e for N = %d: %f\"%(N,np.mean(steps_list)))\n",
    "print(\"percent error: %f%%\" %(np.absolute(np.mean(steps_list)-np.exp(1))/np.exp(1)*100))\n",
    "print(\"standard deviation: %f\" %np.std(steps_list))"
   ]
  },
  {
   "cell_type": "markdown",
   "metadata": {},
   "source": [
    "The percent error is just a way of expressing how close our approximation is to the actual value. \n",
    "\n",
    "$ percent\\: error = \\big|\\frac{experimental\\: value \\:-\\: theoretical\\: value}{theoretical \\: value}\\big|$\n",
    "\n",
    "We should be happy when the percent error is very close to 0. <br/><br/>\n",
    "\n",
    "<strong>B.</strong> The Euler-Mascheroni constant can be expressed by the following integral:\n",
    "\n",
    "$\\gamma = -\\int_{0}^{1}\\ln\\big(\\ln\\big(\\frac{1}{x}\\big)\\big) = -\\Gamma'(1)$\n",
    "\n",
    ",where $\\Gamma'(1)$ is the derivative of the Gamma Function evaluated at 1"
   ]
  },
  {
   "cell_type": "code",
   "execution_count": 7,
   "metadata": {},
   "outputs": [
    {
     "name": "stdout",
     "output_type": "stream",
     "text": [
      "approximation of gamma for sample size 1000 and number of subintervals 1000: 0.577225\n",
      "percent error: 0.001630%\n"
     ]
    }
   ],
   "source": [
    "a = 0\n",
    "b = 1\n",
    "n = 1000 #number of subintervals of the interval [a,b]\n",
    "N = 1000 #number of samples \n",
    "x = np.zeros(n+1) #list of x values\n",
    "h = (b-a)/n #step size\n",
    "\n",
    "f = lambda x: np.log(np.log(1/x)) #integrand\n",
    "\n",
    "total = 0\n",
    "\n",
    "for i in range(n):\n",
    "    x[i+1] = x[i] + h\n",
    "    f_mean = 0 #initialization\n",
    "    for k in range(N): \n",
    "        x_k = uniform(x[i],x[i+1]) #random number within the subinterval\n",
    "        f_mean = f(x_k) + f_mean \n",
    "    sub_area = (h/N)*f_mean #average for the subinterval\n",
    "    total = sub_area + total #average for the interval\n",
    "    \n",
    "print(\"approximation of gamma for sample size %d and number of subintervals %d: %f\"%(N,n,-1*total))\n",
    "print(\"percent error: %f%%\" %(np.absolute(-1*total-np.euler_gamma)/np.euler_gamma*100))\n"
   ]
  },
  {
   "cell_type": "markdown",
   "metadata": {},
   "source": [
    "<strong>C.</strong> Here is a very common example. Which is why we included it last. Consider a quarter-circle inscribed within a square of side 1. The circle also has radius 1. $\\frac{\\pi}{4}$ is just the ratio of the area of the quarter-circle to the area of the square. Now, to approximate the area of the square and the quarter-circle, we just count the number of points we randomly choose that would land on the quarter-circle and its exterior."
   ]
  },
  {
   "cell_type": "code",
   "execution_count": 6,
   "metadata": {},
   "outputs": [
    {
     "name": "stdout",
     "output_type": "stream",
     "text": [
      "approximation of pi for sample size 100000: 3.144360\n",
      "percent error: 0.088087%\n"
     ]
    }
   ],
   "source": [
    "N = 100000\n",
    "x = np.random.uniform(low = 0, high = 1, size = N)\n",
    "y = np.random.uniform(low = 0, high = 1, size = N)\n",
    "K = 0\n",
    "K_ = 0\n",
    "\n",
    "for i in range(N):\n",
    "    distance = np.sqrt(x[i]**2 + y[i]**2)\n",
    "    if distance <= 1:\n",
    "        K_ +=  1 #count the points that would land within the quarter circle (including its edge)\n",
    "    else:\n",
    "        K += 1 #count the points that would land outside the quarter circle \n",
    "\n",
    "print(\"approximation of pi for sample size %d: %f\"%(N,4*K_/(K+K_)))\n",
    "print(\"percent error: %f%%\" %(np.absolute(np.pi - 4*K_/(K+K_))/np.pi*100))\n"
   ]
  },
  {
   "cell_type": "markdown",
   "metadata": {},
   "source": [
    "<h1>Conclusion</h1>\n",
    "\n",
    "Monte Carlo methods are very simple to implement and the convergence to the actual value is only dependent on the number of samples which is not a problem for today because we have faster computers compared to when these\n",
    "methods were initially developed. Monte Carlo methods can be used in a variety of ways. It's applicability is \n",
    "seemingly endless as long as we can think of problems we can solve using random sampling."
   ]
  }
 ],
 "metadata": {
  "kernelspec": {
   "display_name": "Python 3",
   "language": "python",
   "name": "python3"
  },
  "language_info": {
   "codemirror_mode": {
    "name": "ipython",
    "version": 3
   },
   "file_extension": ".py",
   "mimetype": "text/x-python",
   "name": "python",
   "nbconvert_exporter": "python",
   "pygments_lexer": "ipython3",
   "version": "3.8.3"
  }
 },
 "nbformat": 4,
 "nbformat_minor": 4
}
